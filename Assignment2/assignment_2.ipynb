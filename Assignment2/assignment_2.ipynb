{
 "cells": [
  {
   "cell_type": "markdown",
   "metadata": {},
   "source": [
    "# Assignment_2"
   ]
  },
  {
   "cell_type": "markdown",
   "metadata": {},
   "source": [
    "## 1.Autoencoder"
   ]
  },
  {
   "cell_type": "code",
   "execution_count": 1,
   "metadata": {},
   "outputs": [],
   "source": [
    "import os\n",
    "\n",
    "os.environ[\"CUDA_DEVICE_ORDER\"] = \"PCI_BUS_ID\"  # see issue #152\n",
    "os.environ[\"CUDA_VISIBLE_DEVICES\"] = \"7\"\n",
    "    \n",
    "import tensorflow as tf\n",
    "sess = tf.Session(config=tf.ConfigProto(log_device_placement=True))"
   ]
  },
  {
   "cell_type": "code",
   "execution_count": 2,
   "metadata": {},
   "outputs": [
    {
     "name": "stdout",
     "output_type": "stream",
     "text": [
      "[name: \"/device:CPU:0\"\n",
      "device_type: \"CPU\"\n",
      "memory_limit: 268435456\n",
      "locality {\n",
      "}\n",
      "incarnation: 2642451282317079857\n",
      ", name: \"/device:XLA_CPU:0\"\n",
      "device_type: \"XLA_CPU\"\n",
      "memory_limit: 17179869184\n",
      "locality {\n",
      "}\n",
      "incarnation: 12610511858932558557\n",
      "physical_device_desc: \"device: XLA_CPU device\"\n",
      ", name: \"/device:XLA_GPU:0\"\n",
      "device_type: \"XLA_GPU\"\n",
      "memory_limit: 17179869184\n",
      "locality {\n",
      "}\n",
      "incarnation: 6055180812582170178\n",
      "physical_device_desc: \"device: XLA_GPU device\"\n",
      ", name: \"/device:GPU:0\"\n",
      "device_type: \"GPU\"\n",
      "memory_limit: 10911298356\n",
      "locality {\n",
      "  bus_id: 2\n",
      "  numa_node: 1\n",
      "  links {\n",
      "  }\n",
      "}\n",
      "incarnation: 8802390848177190740\n",
      "physical_device_desc: \"device: 0, name: GeForce GTX 1080 Ti, pci bus id: 0000:89:00.0, compute capability: 6.1\"\n",
      "]\n"
     ]
    }
   ],
   "source": [
    "from tensorflow.python.client import device_lib\n",
    "print(device_lib.list_local_devices())"
   ]
  },
  {
   "cell_type": "code",
   "execution_count": 3,
   "metadata": {},
   "outputs": [
    {
     "name": "stderr",
     "output_type": "stream",
     "text": [
      "Using TensorFlow backend.\n"
     ]
    }
   ],
   "source": [
    "import numpy as np\n",
    "import matplotlib.cm as cm\n",
    "import matplotlib.pyplot as plt\n",
    "%matplotlib inline\n",
    "from __future__ import division\n",
    "import random\n",
    "import pandas as pd\n",
    "import keras\n",
    "from keras.layers import Input, Dense, Conv2D, MaxPooling2D, UpSampling2D\n",
    "from keras.models import Model\n",
    "from keras.datasets import fashion_mnist\n",
    "from keras import backend as K\n",
    "from keras.callbacks import TensorBoard\n",
    "\n",
    "from keras.datasets import mnist, cifar10\n",
    "from keras.models import Sequential\n",
    "from keras.layers.core import Dense, Dropout, Activation, Flatten, Reshape\n",
    "from keras.optimizers import SGD, RMSprop\n",
    "from keras.utils import np_utils\n",
    "from keras.regularizers import l2\n",
    "from keras.layers.convolutional import Conv2D, MaxPooling2D, ZeroPadding2D, AveragePooling2D\n",
    "from keras.callbacks import EarlyStopping\n",
    "from keras.preprocessing.image import ImageDataGenerator\n",
    "from keras.layers.normalization import BatchNormalization"
   ]
  },
  {
   "cell_type": "code",
   "execution_count": 4,
   "metadata": {},
   "outputs": [],
   "source": [
    "# The Convolutional autoencoder's from https://blog.keras.io/building-autoencoders-in-keras.html.\n",
    "\n",
    "input_img = Input(shape=(28, 28, 1))  # adapt this if using `channels_first` image data format\n",
    "\n",
    "x = Conv2D(16, (3, 3), activation='relu', padding='same')(input_img)\n",
    "x = MaxPooling2D((2, 2), padding='same')(x)\n",
    "x = Conv2D(8, (3, 3), activation='relu', padding='same')(x)\n",
    "x = MaxPooling2D((2, 2), padding='same')(x)\n",
    "x = Conv2D(8, (3, 3), activation='relu', padding='same')(x)\n",
    "encoded = MaxPooling2D((2, 2), padding='same')(x)\n",
    "\n",
    "# at this point the representation is (4, 4, 8) i.e. 128-dimensional\n",
    "\n",
    "x = Conv2D(8, (3, 3), activation='relu', padding='same')(encoded)\n",
    "x = UpSampling2D((2, 2))(x)\n",
    "x = Conv2D(8, (3, 3), activation='relu', padding='same')(x)\n",
    "x = UpSampling2D((2, 2))(x)\n",
    "x = Conv2D(16, (3, 3), activation='relu')(x)\n",
    "x = UpSampling2D((2, 2))(x)\n",
    "decoded = Conv2D(1, (3, 3), activation='sigmoid', padding='same')(x)\n",
    "\n",
    "autoencoder = Model(input_img, decoded)\n",
    "autoencoder.compile(optimizer='adadelta', loss='binary_crossentropy')"
   ]
  },
  {
   "cell_type": "code",
   "execution_count": 5,
   "metadata": {},
   "outputs": [
    {
     "name": "stdout",
     "output_type": "stream",
     "text": [
      "_________________________________________________________________\n",
      "Layer (type)                 Output Shape              Param #   \n",
      "=================================================================\n",
      "input_1 (InputLayer)         (None, 28, 28, 1)         0         \n",
      "_________________________________________________________________\n",
      "conv2d_1 (Conv2D)            (None, 28, 28, 16)        160       \n",
      "_________________________________________________________________\n",
      "max_pooling2d_1 (MaxPooling2 (None, 14, 14, 16)        0         \n",
      "_________________________________________________________________\n",
      "conv2d_2 (Conv2D)            (None, 14, 14, 8)         1160      \n",
      "_________________________________________________________________\n",
      "max_pooling2d_2 (MaxPooling2 (None, 7, 7, 8)           0         \n",
      "_________________________________________________________________\n",
      "conv2d_3 (Conv2D)            (None, 7, 7, 8)           584       \n",
      "_________________________________________________________________\n",
      "max_pooling2d_3 (MaxPooling2 (None, 4, 4, 8)           0         \n",
      "_________________________________________________________________\n",
      "conv2d_4 (Conv2D)            (None, 4, 4, 8)           584       \n",
      "_________________________________________________________________\n",
      "up_sampling2d_1 (UpSampling2 (None, 8, 8, 8)           0         \n",
      "_________________________________________________________________\n",
      "conv2d_5 (Conv2D)            (None, 8, 8, 8)           584       \n",
      "_________________________________________________________________\n",
      "up_sampling2d_2 (UpSampling2 (None, 16, 16, 8)         0         \n",
      "_________________________________________________________________\n",
      "conv2d_6 (Conv2D)            (None, 14, 14, 16)        1168      \n",
      "_________________________________________________________________\n",
      "up_sampling2d_3 (UpSampling2 (None, 28, 28, 16)        0         \n",
      "_________________________________________________________________\n",
      "conv2d_7 (Conv2D)            (None, 28, 28, 1)         145       \n",
      "=================================================================\n",
      "Total params: 4,385\n",
      "Trainable params: 4,385\n",
      "Non-trainable params: 0\n",
      "_________________________________________________________________\n"
     ]
    }
   ],
   "source": [
    "autoencoder.summary()"
   ]
  },
  {
   "cell_type": "code",
   "execution_count": 6,
   "metadata": {},
   "outputs": [
    {
     "name": "stdout",
     "output_type": "stream",
     "text": [
      "(60000, 28, 28, 1)\n",
      "(10000, 28, 28, 1)\n"
     ]
    }
   ],
   "source": [
    "# Apply the Fashion MNIST dataset.\n",
    "import cv2\n",
    "from PIL import Image\n",
    "import matplotlib.pyplot as plt\n",
    "%matplotlib inline\n",
    "\n",
    "\n",
    "(x_train, _), (x_test, _) = fashion_mnist.load_data()\n",
    "\n",
    "\n",
    "x_train = x_train.astype('float32') / 255.\n",
    "x_test = x_test.astype('float32') / 255.\n",
    "\n",
    "n_train = x_train.shape[0]\n",
    "n_test = x_test.shape[0]\n",
    "x_train = np.reshape(x_train, (n_train, 28, 28, 1))  # adapt this if using `channels_first` image data format\n",
    "x_test = np.reshape(x_test, (n_test, 28, 28, 1))  # adapt this if using `channels_first` image data format\n",
    "\n",
    "print(x_train.shape)\n",
    "print(x_test.shape)"
   ]
  },
  {
   "cell_type": "code",
   "execution_count": 7,
   "metadata": {},
   "outputs": [
    {
     "name": "stdout",
     "output_type": "stream",
     "text": [
      "Train on 60000 samples, validate on 10000 samples\n",
      "Epoch 1/20\n",
      "60000/60000 [==============================] - 6s 99us/step - loss: 0.3688 - val_loss: 0.3379\n",
      "Epoch 2/20\n",
      "60000/60000 [==============================] - 4s 73us/step - loss: 0.3243 - val_loss: 0.3241\n",
      "Epoch 3/20\n",
      "60000/60000 [==============================] - 4s 72us/step - loss: 0.3155 - val_loss: 0.3171\n",
      "Epoch 4/20\n",
      "60000/60000 [==============================] - 4s 69us/step - loss: 0.3102 - val_loss: 0.3120\n",
      "Epoch 5/20\n",
      "60000/60000 [==============================] - 4s 71us/step - loss: 0.3057 - val_loss: 0.3048\n",
      "Epoch 6/20\n",
      "60000/60000 [==============================] - 4s 70us/step - loss: 0.3027 - val_loss: 0.3039\n",
      "Epoch 7/20\n",
      "60000/60000 [==============================] - 4s 70us/step - loss: 0.3011 - val_loss: 0.3034\n",
      "Epoch 8/20\n",
      "60000/60000 [==============================] - 4s 72us/step - loss: 0.2994 - val_loss: 0.2964\n",
      "Epoch 9/20\n",
      "60000/60000 [==============================] - 4s 67us/step - loss: 0.2973 - val_loss: 0.2996\n",
      "Epoch 10/20\n",
      "60000/60000 [==============================] - 4s 68us/step - loss: 0.2964 - val_loss: 0.2975\n",
      "Epoch 11/20\n",
      "60000/60000 [==============================] - 4s 72us/step - loss: 0.2954 - val_loss: 0.2969\n",
      "Epoch 12/20\n",
      "60000/60000 [==============================] - 4s 67us/step - loss: 0.2942 - val_loss: 0.2963\n",
      "Epoch 13/20\n",
      "60000/60000 [==============================] - 4s 71us/step - loss: 0.2936 - val_loss: 0.2960\n",
      "Epoch 14/20\n",
      "60000/60000 [==============================] - 4s 72us/step - loss: 0.2933 - val_loss: 0.2940\n",
      "Epoch 15/20\n",
      "60000/60000 [==============================] - 4s 69us/step - loss: 0.2928 - val_loss: 0.2963\n",
      "Epoch 16/20\n",
      "60000/60000 [==============================] - 4s 70us/step - loss: 0.2923 - val_loss: 0.2920\n",
      "Epoch 17/20\n",
      "60000/60000 [==============================] - 4s 67us/step - loss: 0.2919 - val_loss: 0.2971\n",
      "Epoch 18/20\n",
      "60000/60000 [==============================] - 4s 67us/step - loss: 0.2917 - val_loss: 0.2928\n",
      "Epoch 19/20\n",
      "60000/60000 [==============================] - 4s 68us/step - loss: 0.2916 - val_loss: 0.2966\n",
      "Epoch 20/20\n",
      "60000/60000 [==============================] - 4s 73us/step - loss: 0.2912 - val_loss: 0.2950\n"
     ]
    },
    {
     "data": {
      "text/plain": [
       "<keras.callbacks.History at 0x7f46d83cfd30>"
      ]
     },
     "execution_count": 7,
     "metadata": {},
     "output_type": "execute_result"
    }
   ],
   "source": [
    "# Traing 5 epochs\n",
    "\n",
    "autoencoder.fit(x_train, x_train,\n",
    "                epochs=20,\n",
    "                batch_size=128,\n",
    "                shuffle=True,\n",
    "                validation_data=(x_test, x_test),\n",
    "                callbacks=[TensorBoard(log_dir='/tmp/autoencoder')])"
   ]
  },
  {
   "cell_type": "code",
   "execution_count": 8,
   "metadata": {},
   "outputs": [
    {
     "data": {
      "image/png": "[encoded data removed]",
      "text/plain": [
       "<Figure size 1440x288 with 20 Axes>"
      ]
     },
     "metadata": {
      "needs_background": "light"
     },
     "output_type": "display_data"
    }
   ],
   "source": [
    "decoded_imgs = autoencoder.predict(x_test)\n",
    "\n",
    "n = 10\n",
    "plt.figure(figsize=(20, 4))\n",
    "for i in range(n):\n",
    "    # display original\n",
    "    ax = plt.subplot(2, n, i + 1)\n",
    "    plt.imshow(x_test[i].reshape(28, 28))\n",
    "    plt.gray()\n",
    "    ax.get_xaxis().set_visible(False)\n",
    "    ax.get_yaxis().set_visible(False)\n",
    "\n",
    "    # display reconstruction\n",
    "    ax = plt.subplot(2, n, i + n + 1)\n",
    "    plt.imshow(decoded_imgs[i].reshape(28, 28))\n",
    "    plt.gray()\n",
    "    ax.get_xaxis().set_visible(False)\n",
    "    ax.get_yaxis().set_visible(False)\n",
    "plt.show()"
   ]
  },
  {
   "cell_type": "markdown",
   "metadata": {},
   "source": [
    "## 2.Image Classification\n",
    "\n",
    "Build a deep convolutional network for classification with the Fashion MNIST dataset."
   ]
  },
  {
   "cell_type": "markdown",
   "metadata": {},
   "source": [
    "### 2.1 Deep CNN"
   ]
  },
  {
   "cell_type": "markdown",
   "metadata": {},
   "source": [
    "Taking the deep CNN model on the class. \n",
    "\n",
    "The architecture is as follow:\n",
    "1. A conv2D with 32 filters of kernel size = 3 * 3 and relu active function\n",
    "2. Max Pooling with pool szie = 2 * 2\n",
    "3. Another same 1 and 2\n",
    "4. Drop out layer\n",
    "5. And another 1.\n",
    "6. A flatten layer.\n",
    "7. A dense layer with 84 neurons\n",
    "8. A dense layer as output layer with 10 neurons\n",
    "9. Use softmax as the active function of output layer"
   ]
  },
  {
   "cell_type": "code",
   "execution_count": 9,
   "metadata": {},
   "outputs": [],
   "source": [
    "# =============================\n",
    "#  Setting up LeNet Architecture\n",
    "# ============================\n",
    "model = Sequential()\n",
    "\n",
    "model.add(Conv2D(filters = 32,kernel_size=(3, 3), \n",
    "                 activation='relu', strides=(1, 1), \n",
    "                 padding='valid', input_shape=(28,28,1)))\n",
    "model.add(MaxPooling2D(pool_size=(2, 2)))\n",
    "\n",
    "model.add(Conv2D(filters = 32,kernel_size=(3, 3), \n",
    "                 activation='relu', strides=(1, 1), \n",
    "                 padding='valid', input_shape=(28,28,1)))\n",
    "model.add(MaxPooling2D(pool_size=(2, 2)))\n",
    "model.add(Dropout(0.5))\n",
    "\n",
    "model.add(Conv2D(filters = 32,kernel_size=(3, 3), \n",
    "                 activation='relu', strides=(1, 1), \n",
    "                 padding='valid', input_shape=(28,28,1)))\n",
    "\n",
    "model.add(Flatten())\n",
    "model.add(Dense(84))\n",
    "model.add(Dense(10))\n",
    "model.add(Activation('softmax'))"
   ]
  },
  {
   "cell_type": "code",
   "execution_count": 10,
   "metadata": {},
   "outputs": [
    {
     "name": "stdout",
     "output_type": "stream",
     "text": [
      "_________________________________________________________________\n",
      "Layer (type)                 Output Shape              Param #   \n",
      "=================================================================\n",
      "conv2d_8 (Conv2D)            (None, 26, 26, 32)        320       \n",
      "_________________________________________________________________\n",
      "max_pooling2d_4 (MaxPooling2 (None, 13, 13, 32)        0         \n",
      "_________________________________________________________________\n",
      "conv2d_9 (Conv2D)            (None, 11, 11, 32)        9248      \n",
      "_________________________________________________________________\n",
      "max_pooling2d_5 (MaxPooling2 (None, 5, 5, 32)          0         \n",
      "_________________________________________________________________\n",
      "dropout_1 (Dropout)          (None, 5, 5, 32)          0         \n",
      "_________________________________________________________________\n",
      "conv2d_10 (Conv2D)           (None, 3, 3, 32)          9248      \n",
      "_________________________________________________________________\n",
      "flatten_1 (Flatten)          (None, 288)               0         \n",
      "_________________________________________________________________\n",
      "dense_1 (Dense)              (None, 84)                24276     \n",
      "_________________________________________________________________\n",
      "dense_2 (Dense)              (None, 10)                850       \n",
      "_________________________________________________________________\n",
      "activation_1 (Activation)    (None, 10)                0         \n",
      "=================================================================\n",
      "Total params: 43,942\n",
      "Trainable params: 43,942\n",
      "Non-trainable params: 0\n",
      "_________________________________________________________________\n"
     ]
    }
   ],
   "source": [
    "model.summary()"
   ]
  },
  {
   "cell_type": "code",
   "execution_count": 11,
   "metadata": {},
   "outputs": [
    {
     "name": "stdout",
     "output_type": "stream",
     "text": [
      "(60000, 28, 28, 1)\n",
      "(10000, 28, 28, 1)\n"
     ]
    }
   ],
   "source": [
    "# =============================\n",
    "#  Reshaping data\n",
    "# ============================\n",
    "(X_train, y_train), (X_test, y_test) = fashion_mnist.load_data()\n",
    "X_train = X_train.reshape(X_train.shape[0], 28, 28, 1).astype('float32') / 255\n",
    "X_test = X_test.reshape(X_test.shape[0], 28, 28, 1).astype('float32') / 255\n",
    "Y_train = np_utils.to_categorical(y_train, 10)\n",
    "Y_test = np_utils.to_categorical(y_test, 10)\n",
    "print(x_train.shape)\n",
    "print(x_test.shape)"
   ]
  },
  {
   "cell_type": "code",
   "execution_count": 12,
   "metadata": {},
   "outputs": [
    {
     "name": "stdout",
     "output_type": "stream",
     "text": [
      "Train on 60000 samples, validate on 10000 samples\n",
      "Epoch 1/20\n",
      " - 7s - loss: 0.6303 - acc: 0.7683 - val_loss: 0.4373 - val_acc: 0.8438\n",
      "Epoch 2/20\n",
      " - 6s - loss: 0.4346 - acc: 0.8391 - val_loss: 0.3774 - val_acc: 0.8645\n",
      "Epoch 3/20\n",
      " - 6s - loss: 0.3861 - acc: 0.8588 - val_loss: 0.3486 - val_acc: 0.8749\n",
      "Epoch 4/20\n",
      " - 6s - loss: 0.3606 - acc: 0.8664 - val_loss: 0.3267 - val_acc: 0.8846\n",
      "Epoch 5/20\n",
      " - 6s - loss: 0.3414 - acc: 0.8746 - val_loss: 0.3117 - val_acc: 0.8899\n",
      "Epoch 6/20\n",
      " - 6s - loss: 0.3327 - acc: 0.8772 - val_loss: 0.3067 - val_acc: 0.8899\n",
      "Epoch 7/20\n",
      " - 6s - loss: 0.3190 - acc: 0.8815 - val_loss: 0.3042 - val_acc: 0.8882\n",
      "Epoch 8/20\n",
      " - 6s - loss: 0.3139 - acc: 0.8843 - val_loss: 0.2951 - val_acc: 0.8950\n",
      "Epoch 9/20\n",
      " - 6s - loss: 0.3043 - acc: 0.8881 - val_loss: 0.2863 - val_acc: 0.8962\n",
      "Epoch 10/20\n",
      " - 6s - loss: 0.2997 - acc: 0.8889 - val_loss: 0.2832 - val_acc: 0.8964\n",
      "Epoch 11/20\n",
      " - 6s - loss: 0.2930 - acc: 0.8916 - val_loss: 0.2889 - val_acc: 0.8950\n",
      "Epoch 12/20\n",
      " - 6s - loss: 0.2891 - acc: 0.8935 - val_loss: 0.2853 - val_acc: 0.8988\n",
      "Epoch 13/20\n",
      " - 6s - loss: 0.2874 - acc: 0.8926 - val_loss: 0.2857 - val_acc: 0.8961\n",
      "Epoch 14/20\n",
      " - 6s - loss: 0.2797 - acc: 0.8964 - val_loss: 0.2759 - val_acc: 0.8993\n",
      "Epoch 15/20\n",
      " - 6s - loss: 0.2791 - acc: 0.8968 - val_loss: 0.2708 - val_acc: 0.9014\n",
      "Epoch 16/20\n",
      " - 6s - loss: 0.2738 - acc: 0.8986 - val_loss: 0.2677 - val_acc: 0.9040\n",
      "Epoch 17/20\n",
      " - 6s - loss: 0.2731 - acc: 0.8976 - val_loss: 0.2675 - val_acc: 0.9054\n",
      "Epoch 18/20\n",
      " - 6s - loss: 0.2682 - acc: 0.8995 - val_loss: 0.2730 - val_acc: 0.9008\n",
      "Epoch 19/20\n",
      " - 6s - loss: 0.2666 - acc: 0.9009 - val_loss: 0.2616 - val_acc: 0.9077\n",
      "Epoch 20/20\n",
      " - 6s - loss: 0.2645 - acc: 0.9012 - val_loss: 0.2663 - val_acc: 0.9028\n"
     ]
    }
   ],
   "source": [
    "# =============================\n",
    "#  Training the model\n",
    "# ============================\n",
    "l_rate = 1\n",
    "sgd = SGD(lr=l_rate, momentum=0.0, decay=0.0, nesterov=False)\n",
    "# model.compile(loss='categorical_crossentropy', optimizer=sgd,metrics=['accuracy']) -takes a long time to converge\n",
    "model.compile(loss='categorical_crossentropy', optimizer='adam',metrics=['accuracy'])\n",
    "\n",
    "history = model.fit(X_train, Y_train, epochs=20,\n",
    "          verbose=2, batch_size=64, validation_data=(X_test, Y_test))"
   ]
  },
  {
   "cell_type": "code",
   "execution_count": 13,
   "metadata": {},
   "outputs": [
    {
     "name": "stdout",
     "output_type": "stream",
     "text": [
      "10000/10000 [==============================] - 1s 59us/step\n",
      "Test classification rate 0.90280\n"
     ]
    }
   ],
   "source": [
    "print(\"Test classification rate %0.05f\" % model.evaluate(X_test, Y_test)[1])"
   ]
  },
  {
   "cell_type": "code",
   "execution_count": 14,
   "metadata": {},
   "outputs": [
    {
     "data": {
      "text/plain": [
       "<Figure size 432x288 with 0 Axes>"
      ]
     },
     "execution_count": 14,
     "metadata": {},
     "output_type": "execute_result"
    },
    {
     "data": {
      "image/png": "[encoded data removed]",
      "text/plain": [
       "<Figure size 432x288 with 1 Axes>"
      ]
     },
     "metadata": {
      "needs_background": "light"
     },
     "output_type": "display_data"
    },
    {
     "data": {
      "text/plain": [
       "<Figure size 432x288 with 0 Axes>"
      ]
     },
     "metadata": {},
     "output_type": "display_data"
    }
   ],
   "source": [
    "#-- Plotting the results --\n",
    "import matplotlib.pyplot as plt\n",
    "\n",
    "# ~ Plotting parameters ~\n",
    "# Pulling out :\n",
    "#   - Training: accuracy and loss\n",
    "#   - validation: accuracy and loss\n",
    "acc = history.history['acc']\n",
    "val_acc = history.history['val_acc']\n",
    "loss = history.history['loss']\n",
    "val_loss = history.history['val_loss']\n",
    "\n",
    "# Plotting the data \n",
    "\n",
    "# Training + Valdiation Accuracy\n",
    "epochs = range(1,len(acc) + 1)\n",
    "plt.plot( epochs, acc, 'bo', label = 'Training Accuracy')\n",
    "plt.plot( epochs, val_acc, 'b', label = 'VAlidation Accuracy')\n",
    "plt.title('Training and validation accuracy')\n",
    "plt.legend()\n",
    "plt.figure()"
   ]
  },
  {
   "cell_type": "markdown",
   "metadata": {},
   "source": [
    "### 2.2 Transfer Learning"
   ]
  },
  {
   "cell_type": "code",
   "execution_count": 21,
   "metadata": {},
   "outputs": [
    {
     "name": "stdout",
     "output_type": "stream",
     "text": [
      "_________________________________________________________________\n",
      "Layer (type)                 Output Shape              Param #   \n",
      "=================================================================\n",
      "vgg16 (Model)                (None, 1, 1, 512)         14714688  \n",
      "_________________________________________________________________\n",
      "flatten_5 (Flatten)          (None, 512)               0         \n",
      "_________________________________________________________________\n",
      "dense_9 (Dense)              (None, 256)               131328    \n",
      "_________________________________________________________________\n",
      "dense_10 (Dense)             (None, 10)                2570      \n",
      "=================================================================\n",
      "Total params: 14,848,586\n",
      "Trainable params: 14,848,586\n",
      "Non-trainable params: 0\n",
      "_________________________________________________________________\n"
     ]
    }
   ],
   "source": [
    "# Apply pre-trained model vgg16\n",
    "\n",
    "from keras.applications import VGG16\n",
    "from keras.preprocessing.image import ImageDataGenerator, array_to_img, img_to_array, load_img\n",
    "from keras.optimizers import RMSprop\n",
    "\n",
    "conv_base = VGG16(weights=\"imagenet\",include_top=False,input_shape=(32,32,3))\n",
    "vgg_model = Sequential()\n",
    "vgg_model.add(conv_base)\n",
    "vgg_model.add(Flatten())\n",
    "vgg_model.add(Dense(256, activation=\"relu\"))\n",
    "vgg_model.add(Dense(10, activation=\"softmax\"))\n",
    "\n",
    "# Compiling the model\n",
    "vgg_model.compile(loss=\"categorical_crossentropy\", optimizer='adam', metrics=['accuracy'])\n",
    "\n",
    "# Model summary\n",
    "vgg_model.summary()"
   ]
  },
  {
   "cell_type": "code",
   "execution_count": 16,
   "metadata": {},
   "outputs": [
    {
     "name": "stdout",
     "output_type": "stream",
     "text": [
      "(60000, 32, 32, 3)\n",
      "(10000, 32, 32, 3)\n"
     ]
    }
   ],
   "source": [
    "# Data pre-processing\n",
    "import cv2 \n",
    "\n",
    "X_train = np.asarray([cv2.resize(i, (32,32)) for i in X_train])\n",
    "X_test = np.asarray([cv2.resize(i, (32,32)) for i in X_test])\n",
    "\n",
    "X_train = np.asarray([cv2.cvtColor(i, cv2.COLOR_GRAY2BGR) for i in X_train])\n",
    "X_test = np.asarray([cv2.cvtColor(i, cv2.COLOR_GRAY2BGR) for i in X_test])\n",
    "\n",
    "print(X_train.shape)\n",
    "print(X_test.shape)"
   ]
  },
  {
   "cell_type": "code",
   "execution_count": 22,
   "metadata": {},
   "outputs": [
    {
     "name": "stdout",
     "output_type": "stream",
     "text": [
      "Train on 60000 samples, validate on 10000 samples\n",
      "Epoch 1/20\n",
      "60000/60000 [==============================] - 33s 553us/step - loss: 0.7384 - acc: 0.7156 - val_loss: 0.3803 - val_acc: 0.8703\n",
      "Epoch 2/20\n",
      "60000/60000 [==============================] - 32s 528us/step - loss: 0.3386 - acc: 0.8864 - val_loss: 0.3267 - val_acc: 0.8901\n",
      "Epoch 3/20\n",
      "60000/60000 [==============================] - 32s 532us/step - loss: 0.2870 - acc: 0.9032 - val_loss: 0.2961 - val_acc: 0.9034\n",
      "Epoch 4/20\n",
      "60000/60000 [==============================] - 32s 529us/step - loss: 0.2554 - acc: 0.9128 - val_loss: 0.2889 - val_acc: 0.9008\n",
      "Epoch 5/20\n",
      "60000/60000 [==============================] - 32s 530us/step - loss: 0.2299 - acc: 0.9219 - val_loss: 0.2797 - val_acc: 0.9069\n",
      "Epoch 6/20\n",
      "60000/60000 [==============================] - 32s 528us/step - loss: 0.2070 - acc: 0.9293 - val_loss: 0.2400 - val_acc: 0.9205\n",
      "Epoch 7/20\n",
      "60000/60000 [==============================] - 32s 532us/step - loss: 0.1974 - acc: 0.9345 - val_loss: 0.2480 - val_acc: 0.9242\n",
      "Epoch 8/20\n",
      "60000/60000 [==============================] - 32s 530us/step - loss: 0.1874 - acc: 0.9352 - val_loss: 0.2486 - val_acc: 0.9174\n",
      "Epoch 9/20\n",
      "60000/60000 [==============================] - 32s 532us/step - loss: 0.1654 - acc: 0.9439 - val_loss: 0.2529 - val_acc: 0.9245\n",
      "Epoch 10/20\n",
      "60000/60000 [==============================] - 32s 532us/step - loss: 0.1622 - acc: 0.9469 - val_loss: 0.2748 - val_acc: 0.9171\n",
      "Epoch 11/20\n",
      "60000/60000 [==============================] - 32s 528us/step - loss: 0.1555 - acc: 0.9480 - val_loss: 0.2671 - val_acc: 0.9223\n",
      "Epoch 12/20\n",
      "60000/60000 [==============================] - 32s 531us/step - loss: 0.1499 - acc: 0.9505 - val_loss: 0.2389 - val_acc: 0.9248\n",
      "Epoch 13/20\n",
      "60000/60000 [==============================] - 32s 531us/step - loss: 0.1542 - acc: 0.9496 - val_loss: 0.2557 - val_acc: 0.9210\n",
      "Epoch 14/20\n",
      "60000/60000 [==============================] - 32s 530us/step - loss: 0.1064 - acc: 0.9647 - val_loss: 0.2926 - val_acc: 0.9218\n",
      "Epoch 15/20\n",
      "60000/60000 [==============================] - 32s 527us/step - loss: 0.1337 - acc: 0.9560 - val_loss: 0.2536 - val_acc: 0.9284\n",
      "Epoch 16/20\n",
      "60000/60000 [==============================] - 32s 534us/step - loss: 0.1090 - acc: 0.9652 - val_loss: 0.2614 - val_acc: 0.9260\n",
      "Epoch 17/20\n",
      "60000/60000 [==============================] - 32s 529us/step - loss: 0.1161 - acc: 0.9624 - val_loss: 0.2522 - val_acc: 0.9301\n",
      "Epoch 18/20\n",
      "60000/60000 [==============================] - 32s 531us/step - loss: 0.0882 - acc: 0.9711 - val_loss: 0.3014 - val_acc: 0.9238\n",
      "Epoch 19/20\n",
      "60000/60000 [==============================] - 32s 530us/step - loss: 0.0877 - acc: 0.9718 - val_loss: 0.2955 - val_acc: 0.9260\n",
      "Epoch 20/20\n",
      "60000/60000 [==============================] - 32s 529us/step - loss: 0.0897 - acc: 0.9722 - val_loss: 0.2992 - val_acc: 0.9200\n"
     ]
    }
   ],
   "source": [
    "history = vgg_model.fit(X_train, Y_train, \n",
    "          epochs=20, batch_size=64, validation_data = (X_test, Y_test));"
   ]
  },
  {
   "cell_type": "code",
   "execution_count": 23,
   "metadata": {},
   "outputs": [
    {
     "data": {
      "text/plain": [
       "<Figure size 432x288 with 0 Axes>"
      ]
     },
     "execution_count": 23,
     "metadata": {},
     "output_type": "execute_result"
    },
    {
     "data": {
      "image/png": "[encoded data removed]",
      "text/plain": [
       "<Figure size 432x288 with 1 Axes>"
      ]
     },
     "metadata": {
      "needs_background": "light"
     },
     "output_type": "display_data"
    },
    {
     "data": {
      "text/plain": [
       "<Figure size 432x288 with 0 Axes>"
      ]
     },
     "metadata": {},
     "output_type": "display_data"
    }
   ],
   "source": [
    "#-- Plotting the results --\n",
    "import matplotlib.pyplot as plt\n",
    "\n",
    "# ~ Plotting parameters ~\n",
    "# Pulling out :\n",
    "#   - Training: accuracy and loss\n",
    "#   - validation: accuracy and loss\n",
    "acc = history.history['acc']\n",
    "val_acc = history.history['val_acc']\n",
    "loss = history.history['loss']\n",
    "val_loss = history.history['val_loss']\n",
    "\n",
    "# Plotting the data \n",
    "\n",
    "# Training + Valdiation Accuracy\n",
    "epochs = range(1,len(acc) + 1)\n",
    "plt.plot( epochs, acc, 'bo', label = 'Training Accuracy')\n",
    "plt.plot( epochs, val_acc, 'b', label = 'VAlidation Accuracy')\n",
    "plt.title('Training and validation accuracy')\n",
    "plt.legend()\n",
    "plt.figure()"
   ]
  },
  {
   "cell_type": "markdown",
   "metadata": {},
   "source": [
    "## 3.Text Classification"
   ]
  },
  {
   "cell_type": "code",
   "execution_count": 24,
   "metadata": {
    "scrolled": true
   },
   "outputs": [
    {
     "data": {
      "text/html": [
       "<div>\n",
       "<style scoped>\n",
       "    .dataframe tbody tr th:only-of-type {\n",
       "        vertical-align: middle;\n",
       "    }\n",
       "\n",
       "    .dataframe tbody tr th {\n",
       "        vertical-align: top;\n",
       "    }\n",
       "\n",
       "    .dataframe thead th {\n",
       "        text-align: right;\n",
       "    }\n",
       "</style>\n",
       "<table border=\"1\" class=\"dataframe\">\n",
       "  <thead>\n",
       "    <tr style=\"text-align: right;\">\n",
       "      <th></th>\n",
       "      <th>url</th>\n",
       "      <th>label</th>\n",
       "    </tr>\n",
       "  </thead>\n",
       "  <tbody>\n",
       "    <tr>\n",
       "      <th>2434</th>\n",
       "      <td>.r11---sn-ab5l6nek.googlevideo.com</td>\n",
       "      <td>0</td>\n",
       "    </tr>\n",
       "    <tr>\n",
       "      <th>62934</th>\n",
       "      <td>.box493.bluehost.com</td>\n",
       "      <td>0</td>\n",
       "    </tr>\n",
       "    <tr>\n",
       "      <th>54010</th>\n",
       "      <td>.free-business.avast.com</td>\n",
       "      <td>0</td>\n",
       "    </tr>\n",
       "    <tr>\n",
       "      <th>29186</th>\n",
       "      <td>.git4mjs.southeastasia.cloudapp.azure.com</td>\n",
       "      <td>0</td>\n",
       "    </tr>\n",
       "    <tr>\n",
       "      <th>8489</th>\n",
       "      <td>.r1.sn-buu-hp5l.c.pack.google.com</td>\n",
       "      <td>0</td>\n",
       "    </tr>\n",
       "    <tr>\n",
       "      <th>30747</th>\n",
       "      <td>.js.live.net</td>\n",
       "      <td>0</td>\n",
       "    </tr>\n",
       "    <tr>\n",
       "      <th>51462</th>\n",
       "      <td>.indonesia.westernunion.com</td>\n",
       "      <td>0</td>\n",
       "    </tr>\n",
       "    <tr>\n",
       "      <th>4662</th>\n",
       "      <td>.r14---sn-nx57yne7.googlevideo.com</td>\n",
       "      <td>0</td>\n",
       "    </tr>\n",
       "    <tr>\n",
       "      <th>22786</th>\n",
       "      <td>.b2bperf2webapp5.parttest.extranettest.microso...</td>\n",
       "      <td>0</td>\n",
       "    </tr>\n",
       "    <tr>\n",
       "      <th>65688</th>\n",
       "      <td>.dh7bhroywnjd3.cloudfront.net</td>\n",
       "      <td>0</td>\n",
       "    </tr>\n",
       "  </tbody>\n",
       "</table>\n",
       "</div>"
      ],
      "text/plain": [
       "                                                     url  label\n",
       "2434                  .r11---sn-ab5l6nek.googlevideo.com      0\n",
       "62934                               .box493.bluehost.com      0\n",
       "54010                           .free-business.avast.com      0\n",
       "29186          .git4mjs.southeastasia.cloudapp.azure.com      0\n",
       "8489                   .r1.sn-buu-hp5l.c.pack.google.com      0\n",
       "30747                                       .js.live.net      0\n",
       "51462                        .indonesia.westernunion.com      0\n",
       "4662                  .r14---sn-nx57yne7.googlevideo.com      0\n",
       "22786  .b2bperf2webapp5.parttest.extranettest.microso...      0\n",
       "65688                      .dh7bhroywnjd3.cloudfront.net      0"
      ]
     },
     "execution_count": 24,
     "metadata": {},
     "output_type": "execute_result"
    }
   ],
   "source": [
    "# Apply dataset\n",
    "\n",
    "benign = pd.read_csv(\n",
    "    'https://s3.amazonaws.com/anly-590/url-classification/benign-urls.txt',\n",
    "    header=None)\n",
    "benign.columns = [\"url\"]\n",
    "benign['label'] = 0 \n",
    "\n",
    "malicious = pd.read_csv(\n",
    "    'https://s3.amazonaws.com/anly-590/url-classification/malicious-urls.txt',\n",
    "    header=None)\n",
    "malicious.columns = [\"url\"]\n",
    "malicious['label'] = 1\n",
    "\n",
    "urls = pd.concat([benign,malicious])\n",
    "urls.reset_index(drop=True, inplace=True)\n",
    "\n",
    "urls.sample(10)"
   ]
  },
  {
   "cell_type": "code",
   "execution_count": 25,
   "metadata": {},
   "outputs": [
    {
     "name": "stdout",
     "output_type": "stream",
     "text": [
      "(57250, 86)\n",
      "[[ 0  0  0  0  0  0  0  0  0  0  0  0  0  0  0  0  0  0  0  0  0  0  0  0\n",
      "   0  0  0  0  0  0  0  0  0  0  0  0  0  0  0  0  0  0  0  0  0  0  0  0\n",
      "   0  0  0  0  1  6 20 20  9  9  9  5 11  9  2 14 16  3  5 11  3 21  1 14\n",
      "   2  2 14 13  3 18 12 15  3  2  1  4  2  8]]\n"
     ]
    }
   ],
   "source": [
    "# Pre-processing and splitting out data into training data set and test data set\n",
    "\n",
    "from keras.preprocessing.text import Tokenizer\n",
    "from keras.preprocessing.sequence import pad_sequences\n",
    "from sklearn.model_selection import train_test_split\n",
    "from keras.layers import Dense, Embedding, SimpleRNN, LSTM, GRU, Flatten, Conv1D, MaxPooling1D, Dropout, Activation, GlobalMaxPooling1D\n",
    "from sklearn.metrics import roc_curve\n",
    "from sklearn.metrics import auc\n",
    "\n",
    "max_features = 256\n",
    "maxlen = 100\n",
    "batch_size = 64\n",
    "Y = list(urls.pop('label'))\n",
    "X = list(urls['url'])\n",
    "\n",
    "tokenizer = Tokenizer(char_level=True)\n",
    "tokenizer.fit_on_texts(X)\n",
    "url_tokens = tokenizer.texts_to_sequences(X)\n",
    "\n",
    "max_url = max(len(x) for x in url_tokens)\n",
    "url_tokens = pad_sequences(url_tokens, max_url)\n",
    "\n",
    "url_tokens = np.asmatrix(url_tokens)\n",
    "\n",
    "X_train, X_test, Y_train, Y_test = train_test_split(url_tokens, Y, test_size=0.15, random_state=13)\n",
    "\n",
    "print(X_train.shape)\n",
    "print(X_train[0])"
   ]
  },
  {
   "cell_type": "markdown",
   "metadata": {},
   "source": [
    "### 3.1 RNN"
   ]
  },
  {
   "cell_type": "markdown",
   "metadata": {},
   "source": [
    "Apply simply RNN"
   ]
  },
  {
   "cell_type": "code",
   "execution_count": 26,
   "metadata": {},
   "outputs": [
    {
     "name": "stdout",
     "output_type": "stream",
     "text": [
      "_________________________________________________________________\n",
      "Layer (type)                 Output Shape              Param #   \n",
      "=================================================================\n",
      "embedding_1 (Embedding)      (None, 86, 64)            16384     \n",
      "_________________________________________________________________\n",
      "simple_rnn_1 (SimpleRNN)     (None, 32)                3104      \n",
      "_________________________________________________________________\n",
      "dense_11 (Dense)             (None, 1)                 33        \n",
      "=================================================================\n",
      "Total params: 19,521\n",
      "Trainable params: 19,521\n",
      "Non-trainable params: 0\n",
      "_________________________________________________________________\n"
     ]
    }
   ],
   "source": [
    "# RNN with embedding layer\n",
    "\n",
    "rnn_model = Sequential()\n",
    "rnn_model.add(Embedding(max_features, 64, input_length = max_url))\n",
    "rnn_model.add(SimpleRNN(32))\n",
    "rnn_model.add(Dense(1, activation ='sigmoid'))\n",
    "\n",
    "# Compiling the model\n",
    "\n",
    "rnn_model.compile(loss='binary_crossentropy', optimizer='rmsprop', metrics=['accuracy'])\n",
    "\n",
    "# Model summary\n",
    "\n",
    "rnn_model.summary()"
   ]
  },
  {
   "cell_type": "code",
   "execution_count": 28,
   "metadata": {},
   "outputs": [
    {
     "name": "stdout",
     "output_type": "stream",
     "text": [
      "Train on 57250 samples, validate on 10103 samples\n",
      "Epoch 1/5\n",
      "57250/57250 [==============================] - 54s 938us/step - loss: 0.0284 - acc: 0.9873 - val_loss: 0.0235 - val_acc: 0.9890\n",
      "Epoch 2/5\n",
      "57250/57250 [==============================] - 53s 929us/step - loss: 0.0240 - acc: 0.9892 - val_loss: 0.0204 - val_acc: 0.9895\n",
      "Epoch 3/5\n",
      "57250/57250 [==============================] - 53s 934us/step - loss: 0.0228 - acc: 0.9898 - val_loss: 0.0242 - val_acc: 0.9860\n",
      "Epoch 4/5\n",
      "57250/57250 [==============================] - 54s 945us/step - loss: 0.0210 - acc: 0.9901 - val_loss: 0.0207 - val_acc: 0.9903\n",
      "Epoch 5/5\n",
      "57250/57250 [==============================] - 53s 922us/step - loss: 0.0205 - acc: 0.9912 - val_loss: 0.0236 - val_acc: 0.9898\n"
     ]
    }
   ],
   "source": [
    "history = rnn_model.fit(X_train, Y_train, \n",
    "          epochs=5, batch_size=64, validation_data = (X_test, Y_test));"
   ]
  },
  {
   "cell_type": "code",
   "execution_count": 29,
   "metadata": {},
   "outputs": [
    {
     "data": {
      "text/plain": [
       "<Figure size 432x288 with 0 Axes>"
      ]
     },
     "execution_count": 29,
     "metadata": {},
     "output_type": "execute_result"
    },
    {
     "data": {
      "image/png": "[encoded data removed]",
      "text/plain": [
       "<Figure size 432x288 with 1 Axes>"
      ]
     },
     "metadata": {
      "needs_background": "light"
     },
     "output_type": "display_data"
    },
    {
     "data": {
      "text/plain": [
       "<Figure size 432x288 with 0 Axes>"
      ]
     },
     "metadata": {},
     "output_type": "display_data"
    }
   ],
   "source": [
    "#-- Plotting the results --\n",
    "import matplotlib.pyplot as plt\n",
    "\n",
    "# ~ Plotting parameters ~\n",
    "# Pulling out :\n",
    "#   - Training: accuracy and loss\n",
    "#   - validation: accuracy and loss\n",
    "acc = history.history['acc']\n",
    "val_acc = history.history['val_acc']\n",
    "loss = history.history['loss']\n",
    "val_loss = history.history['val_loss']\n",
    "\n",
    "# Plotting the data \n",
    "\n",
    "# Training + Valdiation Accuracy\n",
    "epochs = range(1,len(acc) + 1)\n",
    "plt.plot( epochs, acc, 'bo', label = 'Training Accuracy')\n",
    "plt.plot( epochs, val_acc, 'b', label = 'VAlidation Accuracy')\n",
    "plt.title('Training and validation accuracy')\n",
    "plt.legend()\n",
    "plt.figure()"
   ]
  },
  {
   "cell_type": "code",
   "execution_count": 30,
   "metadata": {},
   "outputs": [],
   "source": [
    "Y_pred_rnn = rnn_model.predict(X_test).ravel()\n",
    "fpr_rnn, tpr_rnn, thresholds_rnn = roc_curve(Y_test, Y_pred_rnn)\n",
    "auc_rnn = auc(fpr_rnn, tpr_rnn)"
   ]
  },
  {
   "cell_type": "markdown",
   "metadata": {},
   "source": [
    "### 3.2 CNN"
   ]
  },
  {
   "cell_type": "code",
   "execution_count": 31,
   "metadata": {},
   "outputs": [
    {
     "name": "stdout",
     "output_type": "stream",
     "text": [
      "_________________________________________________________________\n",
      "Layer (type)                 Output Shape              Param #   \n",
      "=================================================================\n",
      "embedding_2 (Embedding)      (None, 86, 64)            16384     \n",
      "_________________________________________________________________\n",
      "dropout_2 (Dropout)          (None, 86, 64)            0         \n",
      "_________________________________________________________________\n",
      "conv1d_1 (Conv1D)            (None, 82, 64)            20544     \n",
      "_________________________________________________________________\n",
      "global_max_pooling1d_1 (Glob (None, 64)                0         \n",
      "_________________________________________________________________\n",
      "dense_12 (Dense)             (None, 1)                 65        \n",
      "=================================================================\n",
      "Total params: 36,993\n",
      "Trainable params: 36,993\n",
      "Non-trainable params: 0\n",
      "_________________________________________________________________\n"
     ]
    }
   ],
   "source": [
    "# CNN with embedding layer\n",
    "\n",
    "cnn_model = Sequential()\n",
    "cnn_model.add(Embedding(max_features, 64, input_length = max_url))\n",
    "cnn_model.add(Dropout(0.2))\n",
    "cnn_model.add(Conv1D(64, 5, activation='relu'))\n",
    "cnn_model.add(GlobalMaxPooling1D())\n",
    "cnn_model.add(Dense(1, activation='sigmoid'))\n",
    "\n",
    "# Compiling the model\n",
    "cnn_model.compile(loss='binary_crossentropy', optimizer='rmsprop', metrics=['accuracy'])\n",
    "\n",
    "# Model summary\n",
    "cnn_model.summary()"
   ]
  },
  {
   "cell_type": "code",
   "execution_count": 32,
   "metadata": {},
   "outputs": [
    {
     "name": "stdout",
     "output_type": "stream",
     "text": [
      "Train on 57250 samples, validate on 10103 samples\n",
      "Epoch 1/5\n",
      "57250/57250 [==============================] - 5s 92us/step - loss: 0.0655 - acc: 0.9808 - val_loss: 0.0334 - val_acc: 0.9844\n",
      "Epoch 2/5\n",
      "57250/57250 [==============================] - 4s 75us/step - loss: 0.0302 - acc: 0.9867 - val_loss: 0.0228 - val_acc: 0.9895\n",
      "Epoch 3/5\n",
      "57250/57250 [==============================] - 4s 75us/step - loss: 0.0258 - acc: 0.9886 - val_loss: 0.0352 - val_acc: 0.9853\n",
      "Epoch 4/5\n",
      "57250/57250 [==============================] - 4s 76us/step - loss: 0.0245 - acc: 0.9891 - val_loss: 0.0202 - val_acc: 0.9910\n",
      "Epoch 5/5\n",
      "57250/57250 [==============================] - 4s 77us/step - loss: 0.0241 - acc: 0.9896 - val_loss: 0.0201 - val_acc: 0.9916\n"
     ]
    }
   ],
   "source": [
    "history = cnn_model.fit(X_train, Y_train, \n",
    "          epochs=5, batch_size=64, validation_data = (X_test, Y_test));"
   ]
  },
  {
   "cell_type": "code",
   "execution_count": 33,
   "metadata": {},
   "outputs": [
    {
     "data": {
      "text/plain": [
       "<Figure size 432x288 with 0 Axes>"
      ]
     },
     "execution_count": 33,
     "metadata": {},
     "output_type": "execute_result"
    },
    {
     "data": {
      "image/png": "[encoded data removed]",
      "text/plain": [
       "<Figure size 432x288 with 1 Axes>"
      ]
     },
     "metadata": {
      "needs_background": "light"
     },
     "output_type": "display_data"
    },
    {
     "data": {
      "text/plain": [
       "<Figure size 432x288 with 0 Axes>"
      ]
     },
     "metadata": {},
     "output_type": "display_data"
    }
   ],
   "source": [
    "#-- Plotting the results --\n",
    "import matplotlib.pyplot as plt\n",
    "\n",
    "# ~ Plotting parameters ~\n",
    "# Pulling out :\n",
    "#   - Training: accuracy and loss\n",
    "#   - validation: accuracy and loss\n",
    "acc = history.history['acc']\n",
    "val_acc = history.history['val_acc']\n",
    "loss = history.history['loss']\n",
    "val_loss = history.history['val_loss']\n",
    "\n",
    "# Plotting the data \n",
    "\n",
    "# Training + Valdiation Accuracy\n",
    "epochs = range(1,len(acc) + 1)\n",
    "plt.plot( epochs, acc, 'bo', label = 'Training Accuracy')\n",
    "plt.plot( epochs, val_acc, 'b', label = 'VAlidation Accuracy')\n",
    "plt.title('Training and validation accuracy')\n",
    "plt.legend()\n",
    "plt.figure()"
   ]
  },
  {
   "cell_type": "code",
   "execution_count": 34,
   "metadata": {},
   "outputs": [],
   "source": [
    "Y_pred_cnn = cnn_model.predict(X_test).ravel()\n",
    "fpr_cnn, tpr_cnn, thresholds_cnn = roc_curve(Y_test, Y_pred_cnn)\n",
    "auc_cnn = auc(fpr_cnn, tpr_cnn)"
   ]
  },
  {
   "cell_type": "markdown",
   "metadata": {},
   "source": [
    "### 3.3 Compare those two model"
   ]
  },
  {
   "cell_type": "code",
   "execution_count": 35,
   "metadata": {},
   "outputs": [
    {
     "data": {
      "image/png": "[encoded data removed]",
      "text/plain": [
       "<Figure size 432x288 with 1 Axes>"
      ]
     },
     "metadata": {
      "needs_background": "light"
     },
     "output_type": "display_data"
    }
   ],
   "source": [
    "plt.figure(1)\n",
    "plt.plot([0, 1], [0, 1], 'k--')\n",
    "plt.plot(fpr_rnn, tpr_rnn, label='RNN (area = {:.3f})'.format(auc_rnn))\n",
    "plt.plot(fpr_cnn, tpr_cnn, label='CNN (area = {:.3f})'.format(auc_cnn))\n",
    "plt.xlabel('False positive rate')\n",
    "plt.ylabel('True positive rate')\n",
    "plt.title('ROC curve')\n",
    "plt.legend(loc='best')\n",
    "plt.show()"
   ]
  }
 ],
 "metadata": {
  "kernelspec": {
   "display_name": "dy",
   "language": "python",
   "name": "dy"
  },
  "language_info": {
   "codemirror_mode": {
    "name": "ipython",
    "version": 3
   },
   "file_extension": ".py",
   "mimetype": "text/x-python",
   "name": "python",
   "nbconvert_exporter": "python",
   "pygments_lexer": "ipython3",
   "version": "3.6.6"
  }
 },
 "nbformat": 4,
 "nbformat_minor": 2
}
